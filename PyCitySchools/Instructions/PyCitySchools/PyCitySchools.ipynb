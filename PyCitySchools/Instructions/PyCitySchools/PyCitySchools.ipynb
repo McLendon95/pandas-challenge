{
 "cells": [
  {
   "cell_type": "code",
   "execution_count": null,
   "metadata": {},
   "outputs": [],
   "source": [
    "import pandas as pd \n",
    "\n",
    "school_csv_file = \"Resources/schools_complete.csv\"\n",
    "student_csv_file = \"Resources/students_complete.csv\"\n",
    "\n",
    "school_csv = pd.read_csv(school_csv_file)\n",
    "student_csv = pd.read_csv(student_csv_file)\n",
    "\n",
    "school_complete = pd.merge(school_csv, student_csv, how=\"left\", on=[\"school_name\", \"school_name\"])\n",
    "school_complete\n"
   ]
  },
  {
   "cell_type": "code",
   "execution_count": null,
   "metadata": {},
   "outputs": [],
   "source": [
    "#District Summary\n",
    "\n",
    "schools_total = len(school_complete[\"school_name\"].unique())\n",
    "students_total = len(school_complete[\"student_name\"].unique())\n",
    "budget_total = school_complete[\"budget\"].unique().sum()\n",
    "avg_math_score = school_complete[\"math_score\"].mean()\n",
    "avg_reading_score = school_complete[\"reading_score\"].mean()\n",
    "count_math = school_complete.groupby([school_complete[\"math_score\"]>=70])[\"Student ID\"]\n",
    "count_read = school_complete.groupby([school_complete[\"reading_score\"]>=70])[\"Student ID\"]\n",
    "student_total= len(school_complete[\"Student ID\"].unique())"
   ]
  },
  {
   "cell_type": "code",
   "execution_count": null,
   "metadata": {},
   "outputs": [],
   "source": [
    "district_summary_df = pd.DataFrame({\"Total Schools\": [schools_total],\n",
    "                                    \"Total Students\": [students_total],\n",
    "                                    \"Total Budget\": [budget_total],\n",
    "                                    \"Average Math Score\": [avg_math_score],\n",
    "                                    \"Average ReadingScore\": [avg_reading_score],\n",
    "                                    \"% Passing Math\": [count_math]})\n",
    "district_summary_df\n",
    "\n"
   ]
  },
  {
   "cell_type": "code",
   "execution_count": null,
   "metadata": {},
   "outputs": [],
   "source": [
    "per_student_budget = (budget_total / student_total)\n",
    "per_school_budget = district_summary_df[\"Total Budget\"].mean()\n",
    "\n",
    "students_per_school = school_complete.groupby([\"Student ID\"]).sum()[\"school_name\"]\n",
    "students_per_school.head()\n",
    "\n",
    "\n"
   ]
  },
  {
   "cell_type": "code",
   "execution_count": null,
   "metadata": {},
   "outputs": [],
   "source": [
    "#School Summary\n",
    "per_school_data = school_complete.set_index([\"school_name\"])[\"type\"]\n",
    "per_school_data\n",
    "\n",
    "by_school = per_school_data.groupby([\"school_name\"])\n",
    "print(by_school)\n",
    "by_school.count()\n",
    "\n",
    "school_summary_df = pd.DataFrame({\"Total Students\": student_total,\n",
    "                                    \"Total Budget\": budget_total,\n",
    "                                    \"Per Student Budget\": per_student_budget,\n",
    "                                    \"Average Math Score\": avg_math_score,\n",
    "                                    \"Average Reading Score\": avg_reading_score})\n",
    "school_summary_df\n",
    "\n"
   ]
  },
  {
   "cell_type": "code",
   "execution_count": null,
   "metadata": {},
   "outputs": [],
   "source": [
    "\n",
    "\n",
    "school_variable = school_complete.head()"
   ]
  },
  {
   "cell_type": "code",
   "execution_count": null,
   "metadata": {},
   "outputs": [],
   "source": [
    "#Math Scores By Grade\n",
    "\n",
    "math_ninth = school_complete.loc(school_complete[\"grade\"]==\"9th\")\n",
    "school_math_ninth = math_ninth.groupby([\"school_name\"]).mean()[\"math_score\"]\n",
    "\n",
    "math_tenth = school_complete.loc(school_complete[\"grade\"]==\"10th\")\n",
    "school_math_tenth = math_tenth.groupby([\"school_name\"]).mean()[\"math_score\"]\n",
    "\n",
    "\n",
    "math_eleventh = school_complete.loc(school_complete[\"grade\"]==\"11th\")\n",
    "school_math_eleventh = math_eleventh.groupby([\"school_name\"]).mean()[\"math_score\"]\n",
    "\n",
    "math_twelth = school_complete.loc(school_complete[\"grade\"]==\"12th\")\n",
    "school_math_twelth = math_twelth.groupby([\"school_name\"]).mean()[\"math_score\"]"
   ]
  },
  {
   "cell_type": "code",
   "execution_count": null,
   "metadata": {},
   "outputs": [],
   "source": [
    "#Reading Scores By Grade\n",
    "\n",
    "reading_ninth = school_complete.loc(school_complete[\"grade\"]==\"9th\")\n",
    "school_reading_ninth = reading_ninth.groupby([\"school_name\"]).mean()[\"reading_score\"]\n",
    "\n",
    "reading_tenth = school_complete.loc(school_complete[\"grade\"]==\"10th\")\n",
    "school_reading_tenth = reading_tenth.groupby([\"school_name\"]).mean()[\"reading_score\"]\n",
    "\n",
    "reading_eleventh = school_complete.loc(school_complete[\"grade\"]==\"11th\")\n",
    "school_reading_eleventh = reading_eleventh.groupby([\"school_name\"]).mean()[\"reading_score\"]\n",
    "\n",
    "reading_twelth = school_complete.loc(school_complete[\"grade\"]==\"12th\")\n",
    "school_reading_twelth = reading_twelth.groupby([\"school_name\"]).mean()[\"reading_score\"]\n"
   ]
  },
  {
   "cell_type": "code",
   "execution_count": null,
   "metadata": {},
   "outputs": [],
   "source": [
    "#Scores By School Spending\n",
    "\n",
    "bins = [0, 50, 60, 70, 80, 90, 100]\n",
    "group_names = [F, D, C, B, A]\n",
    "\n",
    "variable = school_complete.groupby('[bin_column]').mean()['specific_column']\n",
    "\n"
   ]
  }
 ],
 "metadata": {
  "kernelspec": {
   "display_name": "Python 3.9.12 ('base')",
   "language": "python",
   "name": "python3"
  },
  "language_info": {
   "codemirror_mode": {
    "name": "ipython",
    "version": 3
   },
   "file_extension": ".py",
   "mimetype": "text/x-python",
   "name": "python",
   "nbconvert_exporter": "python",
   "pygments_lexer": "ipython3",
   "version": "3.9.12"
  },
  "orig_nbformat": 4,
  "vscode": {
   "interpreter": {
    "hash": "a19d4256769a5a8eece1c5afdd0acbcaab09bcfd03f3555519de6b67b43128b9"
   }
  }
 },
 "nbformat": 4,
 "nbformat_minor": 2
}
